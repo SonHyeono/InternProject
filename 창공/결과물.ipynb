{
 "cells": [
  {
   "cell_type": "code",
   "execution_count": 1,
   "metadata": {},
   "outputs": [],
   "source": [
    "import pandas as pd"
   ]
  },
  {
   "cell_type": "code",
   "execution_count": 2,
   "metadata": {},
   "outputs": [],
   "source": [
    "df = pd.read_excel(\"Youtube_comment_emotion.xlsx\")"
   ]
  },
  {
   "cell_type": "code",
   "execution_count": 3,
   "metadata": {},
   "outputs": [],
   "source": [
    "def emotion_check(text):\n",
    "    if \"긍정\" in text:\n",
    "        return \"긍정\"\n",
    "    else:\n",
    "        return \"부정\"\n",
    "        "
   ]
  },
  {
   "cell_type": "code",
   "execution_count": 4,
   "metadata": {},
   "outputs": [],
   "source": [
    "df['emotion_v2'] = df['감정모델 예측'].apply(lambda x: emotion_check(x) )"
   ]
  },
  {
   "cell_type": "code",
   "execution_count": 5,
   "metadata": {},
   "outputs": [],
   "source": [
    "df['emotion_v3'] = df['감정모델 예측'].apply(lambda x: float(x[:5]))"
   ]
  },
  {
   "cell_type": "code",
   "execution_count": 6,
   "metadata": {},
   "outputs": [
    {
     "data": {
      "text/html": [
       "<div>\n",
       "<style scoped>\n",
       "    .dataframe tbody tr th:only-of-type {\n",
       "        vertical-align: middle;\n",
       "    }\n",
       "\n",
       "    .dataframe tbody tr th {\n",
       "        vertical-align: top;\n",
       "    }\n",
       "\n",
       "    .dataframe thead th {\n",
       "        text-align: right;\n",
       "    }\n",
       "</style>\n",
       "<table border=\"1\" class=\"dataframe\">\n",
       "  <thead>\n",
       "    <tr style=\"text-align: right;\">\n",
       "      <th></th>\n",
       "      <th>댓글</th>\n",
       "      <th>작성자</th>\n",
       "      <th>날짜</th>\n",
       "      <th>좋아요 수</th>\n",
       "      <th>감정모델 예측</th>\n",
       "      <th>emotion_v2</th>\n",
       "      <th>emotion_v3</th>\n",
       "    </tr>\n",
       "  </thead>\n",
       "  <tbody>\n",
       "    <tr>\n",
       "      <th>0</th>\n",
       "      <td>뉴욕에서 결재하기가 ㅠㅠㅠ</td>\n",
       "      <td>Dong Won Kim</td>\n",
       "      <td>2022-05-12T13:01:01Z</td>\n",
       "      <td>0</td>\n",
       "      <td>89.91% 확률로 부정 리뷰입니다.</td>\n",
       "      <td>부정</td>\n",
       "      <td>89.91</td>\n",
       "    </tr>\n",
       "    <tr>\n",
       "      <th>1</th>\n",
       "      <td>좋은 영상 너무 감사해요ㅎㅎㅎㅎ</td>\n",
       "      <td>전지영</td>\n",
       "      <td>2022-03-27T14:53:57Z</td>\n",
       "      <td>2</td>\n",
       "      <td>89.64% 확률로 긍정 리뷰입니다.</td>\n",
       "      <td>긍정</td>\n",
       "      <td>89.64</td>\n",
       "    </tr>\n",
       "    <tr>\n",
       "      <th>2</th>\n",
       "      <td>초보 유튜버에게 진짜 좋은 꿀팁이네요 매번 힘들고 귀찮게 음악찾고 무료라고 했는데 ...</td>\n",
       "      <td>오꼬리 Ohhggorri</td>\n",
       "      <td>2021-11-15T08:30:20Z</td>\n",
       "      <td>2</td>\n",
       "      <td>93.05% 확률로 긍정 리뷰입니다.</td>\n",
       "      <td>긍정</td>\n",
       "      <td>93.05</td>\n",
       "    </tr>\n",
       "    <tr>\n",
       "      <th>3</th>\n",
       "      <td>답글 감사합니다 작가님</td>\n",
       "      <td>오꼬리 Ohhggorri</td>\n",
       "      <td>2021-11-15T10:53:52Z</td>\n",
       "      <td>0</td>\n",
       "      <td>80.03% 확률로 긍정 리뷰입니다.</td>\n",
       "      <td>긍정</td>\n",
       "      <td>80.03</td>\n",
       "    </tr>\n",
       "    <tr>\n",
       "      <th>4</th>\n",
       "      <td>핸드폰이든 컴퓨터든 음악은 모두 중요하니 추천드립니다 ㅎㅎ 구매하면 계속 쓰실 수 ...</td>\n",
       "      <td>TAE태영작가</td>\n",
       "      <td>2021-11-15T10:45:47Z</td>\n",
       "      <td>1</td>\n",
       "      <td>95.05% 확률로 긍정 리뷰입니다.</td>\n",
       "      <td>긍정</td>\n",
       "      <td>95.05</td>\n",
       "    </tr>\n",
       "    <tr>\n",
       "      <th>...</th>\n",
       "      <td>...</td>\n",
       "      <td>...</td>\n",
       "      <td>...</td>\n",
       "      <td>...</td>\n",
       "      <td>...</td>\n",
       "      <td>...</td>\n",
       "      <td>...</td>\n",
       "    </tr>\n",
       "    <tr>\n",
       "      <th>63</th>\n",
       "      <td>이트리스트랑 모션엘리먼츠 쓰지만 노래감성 안맞을때 많았는데 ㅋㅋㅋ 한국업체에도 이렇...</td>\n",
       "      <td>Silvergun</td>\n",
       "      <td>2021-10-29T03:57:25Z</td>\n",
       "      <td>2</td>\n",
       "      <td>94.89% 확률로 긍정 리뷰입니다.</td>\n",
       "      <td>긍정</td>\n",
       "      <td>94.89</td>\n",
       "    </tr>\n",
       "    <tr>\n",
       "      <th>64</th>\n",
       "      <td>좋아요 항상 화이팅입니다</td>\n",
       "      <td>TAE태영작가</td>\n",
       "      <td>2021-10-29T05:20:26Z</td>\n",
       "      <td>0</td>\n",
       "      <td>96.12% 확률로 긍정 리뷰입니다.</td>\n",
       "      <td>긍정</td>\n",
       "      <td>96.12</td>\n",
       "    </tr>\n",
       "    <tr>\n",
       "      <th>65</th>\n",
       "      <td>아트리스트도 구매해서 사용중인데 문제없겠죠</td>\n",
       "      <td>유랑즈 URangz</td>\n",
       "      <td>2021-10-29T03:54:16Z</td>\n",
       "      <td>2</td>\n",
       "      <td>93.04% 확률로 긍정 리뷰입니다.</td>\n",
       "      <td>긍정</td>\n",
       "      <td>93.04</td>\n",
       "    </tr>\n",
       "    <tr>\n",
       "      <th>66</th>\n",
       "      <td>아트리스트 저도 수년간 사용했는데 저작권 이슈가 여러 차례 발생해서 고생을 좀 했습...</td>\n",
       "      <td>TAE태영작가</td>\n",
       "      <td>2021-10-29T05:19:58Z</td>\n",
       "      <td>1</td>\n",
       "      <td>93.72% 확률로 부정 리뷰입니다.</td>\n",
       "      <td>부정</td>\n",
       "      <td>93.72</td>\n",
       "    </tr>\n",
       "    <tr>\n",
       "      <th>67</th>\n",
       "      <td>오늘은 영상 올리면 항상 문의 받아왔던 음원 사이트 공개해봅니다  재밌게 시청해주시...</td>\n",
       "      <td>TAE태영작가</td>\n",
       "      <td>2021-10-29T03:29:53Z</td>\n",
       "      <td>3</td>\n",
       "      <td>84.20% 확률로 긍정 리뷰입니다.</td>\n",
       "      <td>긍정</td>\n",
       "      <td>84.20</td>\n",
       "    </tr>\n",
       "  </tbody>\n",
       "</table>\n",
       "<p>68 rows × 7 columns</p>\n",
       "</div>"
      ],
      "text/plain": [
       "                                                   댓글            작성자  \\\n",
       "0                                      뉴욕에서 결재하기가 ㅠㅠㅠ   Dong Won Kim   \n",
       "1                                   좋은 영상 너무 감사해요ㅎㅎㅎㅎ            전지영   \n",
       "2   초보 유튜버에게 진짜 좋은 꿀팁이네요 매번 힘들고 귀찮게 음악찾고 무료라고 했는데 ...  오꼬리 Ohhggorri   \n",
       "3                                        답글 감사합니다 작가님  오꼬리 Ohhggorri   \n",
       "4   핸드폰이든 컴퓨터든 음악은 모두 중요하니 추천드립니다 ㅎㅎ 구매하면 계속 쓰실 수 ...        TAE태영작가   \n",
       "..                                                ...            ...   \n",
       "63  이트리스트랑 모션엘리먼츠 쓰지만 노래감성 안맞을때 많았는데 ㅋㅋㅋ 한국업체에도 이렇...      Silvergun   \n",
       "64                                      좋아요 항상 화이팅입니다        TAE태영작가   \n",
       "65                            아트리스트도 구매해서 사용중인데 문제없겠죠     유랑즈 URangz   \n",
       "66  아트리스트 저도 수년간 사용했는데 저작권 이슈가 여러 차례 발생해서 고생을 좀 했습...        TAE태영작가   \n",
       "67  오늘은 영상 올리면 항상 문의 받아왔던 음원 사이트 공개해봅니다  재밌게 시청해주시...        TAE태영작가   \n",
       "\n",
       "                      날짜  좋아요 수               감정모델 예측 emotion_v2  emotion_v3  \n",
       "0   2022-05-12T13:01:01Z      0  89.91% 확률로 부정 리뷰입니다.         부정       89.91  \n",
       "1   2022-03-27T14:53:57Z      2  89.64% 확률로 긍정 리뷰입니다.         긍정       89.64  \n",
       "2   2021-11-15T08:30:20Z      2  93.05% 확률로 긍정 리뷰입니다.         긍정       93.05  \n",
       "3   2021-11-15T10:53:52Z      0  80.03% 확률로 긍정 리뷰입니다.         긍정       80.03  \n",
       "4   2021-11-15T10:45:47Z      1  95.05% 확률로 긍정 리뷰입니다.         긍정       95.05  \n",
       "..                   ...    ...                   ...        ...         ...  \n",
       "63  2021-10-29T03:57:25Z      2  94.89% 확률로 긍정 리뷰입니다.         긍정       94.89  \n",
       "64  2021-10-29T05:20:26Z      0  96.12% 확률로 긍정 리뷰입니다.         긍정       96.12  \n",
       "65  2021-10-29T03:54:16Z      2  93.04% 확률로 긍정 리뷰입니다.         긍정       93.04  \n",
       "66  2021-10-29T05:19:58Z      1  93.72% 확률로 부정 리뷰입니다.         부정       93.72  \n",
       "67  2021-10-29T03:29:53Z      3  84.20% 확률로 긍정 리뷰입니다.         긍정       84.20  \n",
       "\n",
       "[68 rows x 7 columns]"
      ]
     },
     "execution_count": 6,
     "metadata": {},
     "output_type": "execute_result"
    }
   ],
   "source": [
    "df"
   ]
  },
  {
   "cell_type": "code",
   "execution_count": 15,
   "metadata": {},
   "outputs": [],
   "source": [
    "import seaborn as sns\n",
    "import matplotlib.pyplot as plt"
   ]
  },
  {
   "cell_type": "code",
   "execution_count": 16,
   "metadata": {},
   "outputs": [],
   "source": [
    "sns.set(rc={'figure.figsize':(11.7,8.27)})\n",
    "sns.set(font_scale = 2)"
   ]
  },
  {
   "cell_type": "code",
   "execution_count": 17,
   "metadata": {},
   "outputs": [],
   "source": [
    "plt.rcParams['font.family'] = 'Malgun Gothic'"
   ]
  },
  {
   "cell_type": "code",
   "execution_count": 22,
   "metadata": {},
   "outputs": [
    {
     "data": {
      "image/png": "[encoded data removed]",
      "text/plain": [
       "<Figure size 842.4x595.44 with 1 Axes>"
      ]
     },
     "metadata": {},
     "output_type": "display_data"
    }
   ],
   "source": [
    "ax = sns.boxplot(x = 'emotion_v2', y = 'emotion_v3',data=df\n",
    "            , palette='Set3')\n",
    "ax.set_title('[ 유튜브 ] 뮤직플랫 후기 댓글 감정 예측 정확도(Box plot)')\n",
    "ax.set_xlabel('감정')\n",
    "ax.set_ylabel('정확도(%)')\n",
    "\n",
    "plt.savefig('save.png', dpi=300)"
   ]
  },
  {
   "cell_type": "code",
   "execution_count": 23,
   "metadata": {},
   "outputs": [
    {
     "data": {
      "text/plain": [
       "Text(0, 0.5, '개수')"
      ]
     },
     "execution_count": 23,
     "metadata": {},
     "output_type": "execute_result"
    },
    {
     "data": {
      "image/png": "[encoded data removed]",
      "text/plain": [
       "<Figure size 842.4x595.44 with 1 Axes>"
      ]
     },
     "metadata": {},
     "output_type": "display_data"
    }
   ],
   "source": [
    "ax2 = sns.countplot(x='emotion_v2', data = df)\n",
    "ax2.set_title(\"[ 유튜브 ] 뮤직플랫 후기 댓글 감정 분석(Bar plot)\")\n",
    "ax2.set_xlabel('감정')\n",
    "ax2.set_ylabel('개수')\n"
   ]
  },
  {
   "cell_type": "code",
   "execution_count": null,
   "metadata": {},
   "outputs": [],
   "source": []
  }
 ],
 "metadata": {
  "kernelspec": {
   "display_name": "Python 3",
   "language": "python",
   "name": "python3"
  },
  "language_info": {
   "codemirror_mode": {
    "name": "ipython",
    "version": 3
   },
   "file_extension": ".py",
   "mimetype": "text/x-python",
   "name": "python",
   "nbconvert_exporter": "python",
   "pygments_lexer": "ipython3",
   "version": "3.8.5"
  }
 },
 "nbformat": 4,
 "nbformat_minor": 4
}
