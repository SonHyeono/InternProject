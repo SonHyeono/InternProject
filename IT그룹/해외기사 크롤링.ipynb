{
 "cells": [
  {
   "cell_type": "markdown",
   "metadata": {},
   "source": [
    "# 해외 기사 크롤링"
   ]
  },
  {
   "cell_type": "code",
   "execution_count": 69,
   "metadata": {},
   "outputs": [],
   "source": [
    "from selenium import webdriver\n",
    "from bs4 import BeautifulSoup\n",
    "import time\n",
    "import pandas as pd\n",
    "pd.set_option('display.max_columns', None) # 데이터프레임 컬럼 display\n",
    "\n",
    "import warnings\n",
    "warnings.filterwarnings('ignore') # 경고 무시"
   ]
  },
  {
   "cell_type": "code",
   "execution_count": null,
   "metadata": {},
   "outputs": [],
   "source": []
  },
  {
   "cell_type": "code",
   "execution_count": null,
   "metadata": {},
   "outputs": [],
   "source": [
    "from bs4 import BeautifulSoup\n",
    "url = 'https://news.google.com/topics/CAAqIQgKIhtDQkFTRGdvSUwyMHZNRFp4WkRNU0FtdHZLQUFQAQ?hl=ko&gl=KR&ceid=KR%3Ako'\n",
    "def get_news_heads():\n",
    "    resp = requests.get(url)\n",
    "    soup = BeautifulSoup(resp.text, 'lxml')\n",
    "    items = soup.select('div > article > h3 > a')\n",
    "    for idx, item in enumerate(items): # nth-child 는 nth-of-type 으로 바꾸어줘야 한다.\n",
    "        publisher = soup.select('main > div.lBwEZb.BL5WZb.GndZbb '\n",
    "                                '> div:nth-of-type({0}) > div > div > article '\n",
    "                                '> div > div > a'.format(idx+1)) # 해당 idx 출판사 이름을 가져옴\n",
    "        if len(publisher) == 0: continue # 없을 경우 continue\n",
    "        \n",
    "        pub = publisher[0].getText() #뉴스 출판사\n",
    "        title = item.text #뉴스 헤드라인\n",
    "        link = 'https://news.google.com'+str(item.get('href')) #뉴스 경로\n",
    "        \n",
    "        print('---------------------------------')\n",
    "        print('IDX : ', idx, pub, title , link)"
   ]
  },
  {
   "cell_type": "code",
   "execution_count": null,
   "metadata": {},
   "outputs": [],
   "source": []
  },
  {
   "cell_type": "code",
   "execution_count": null,
   "metadata": {},
   "outputs": [],
   "source": []
  }
 ],
 "metadata": {
  "kernelspec": {
   "display_name": "Python 3",
   "language": "python",
   "name": "python3"
  },
  "language_info": {
   "codemirror_mode": {
    "name": "ipython",
    "version": 3
   },
   "file_extension": ".py",
   "mimetype": "text/x-python",
   "name": "python",
   "nbconvert_exporter": "python",
   "pygments_lexer": "ipython3",
   "version": "3.8.5"
  }
 },
 "nbformat": 4,
 "nbformat_minor": 5
}
